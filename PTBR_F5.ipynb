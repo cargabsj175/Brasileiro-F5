{
  "nbformat": 4,
  "nbformat_minor": 0,
  "metadata": {
    "colab": {
      "provenance": [],
      "gpuType": "T4"
    },
    "kernelspec": {
      "name": "python3",
      "display_name": "Python 3"
    },
    "language_info": {
      "name": "python"
    },
    "accelerator": "GPU"
  },
  "cells": [
    {
      "cell_type": "code",
      "execution_count": null,
      "metadata": {
        "id": "0-duLUr_Iema"
      },
      "outputs": [],
      "source": [
        "# Paso 1\n",
        "!pip install git+https://github.com/cargabsj175/Brasileiro-F5.git"
      ]
    },
    {
      "cell_type": "code",
      "source": [
        "# Paso 2\n",
        "!f5-tts_infer-gradio"
      ],
      "metadata": {
        "id": "a2LYVge6IhOh"
      },
      "execution_count": null,
      "outputs": []
    }
  ]
}